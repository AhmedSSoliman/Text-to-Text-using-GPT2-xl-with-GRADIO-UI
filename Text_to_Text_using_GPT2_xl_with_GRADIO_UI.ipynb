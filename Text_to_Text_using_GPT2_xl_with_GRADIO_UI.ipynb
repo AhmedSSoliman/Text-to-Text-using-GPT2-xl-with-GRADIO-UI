{
  "nbformat": 4,
  "nbformat_minor": 0,
  "metadata": {
    "kernelspec": {
      "display_name": "Python 3",
      "language": "python",
      "name": "python3"
    },
    "language_info": {
      "codemirror_mode": {
        "name": "ipython",
        "version": 3
      },
      "file_extension": ".py",
      "mimetype": "text/x-python",
      "name": "python",
      "nbconvert_exporter": "python",
      "pygments_lexer": "ipython3",
      "version": "3.7.3"
    },
    "colab": {
      "name": "Text to Text using GPT2-xl with GRADIO UI.ipynb",
      "provenance": [],
      "collapsed_sections": [],
      "include_colab_link": true
    },
    "accelerator": "GPU",
    "widgets": {
      "application/vnd.jupyter.widget-state+json": {
        "bdc74b6e1f234824a9af2275806811f7": {
          "model_module": "@jupyter-widgets/controls",
          "model_name": "HBoxModel",
          "model_module_version": "1.5.0",
          "state": {
            "_view_name": "HBoxView",
            "_dom_classes": [],
            "_model_name": "HBoxModel",
            "_view_module": "@jupyter-widgets/controls",
            "_model_module_version": "1.5.0",
            "_view_count": null,
            "_view_module_version": "1.5.0",
            "box_style": "",
            "layout": "IPY_MODEL_367a144264fa4828a72ab1425bfa2acd",
            "_model_module": "@jupyter-widgets/controls",
            "children": [
              "IPY_MODEL_fd8275940afe4d08ba58a1c630a38d23",
              "IPY_MODEL_60c65976ed0e486b928141fb14348353",
              "IPY_MODEL_cbc3840792b4456b8af40768e4df6ffd"
            ]
          }
        },
        "367a144264fa4828a72ab1425bfa2acd": {
          "model_module": "@jupyter-widgets/base",
          "model_name": "LayoutModel",
          "model_module_version": "1.2.0",
          "state": {
            "_view_name": "LayoutView",
            "grid_template_rows": null,
            "right": null,
            "justify_content": null,
            "_view_module": "@jupyter-widgets/base",
            "overflow": null,
            "_model_module_version": "1.2.0",
            "_view_count": null,
            "flex_flow": null,
            "width": null,
            "min_width": null,
            "border": null,
            "align_items": null,
            "bottom": null,
            "_model_module": "@jupyter-widgets/base",
            "top": null,
            "grid_column": null,
            "overflow_y": null,
            "overflow_x": null,
            "grid_auto_flow": null,
            "grid_area": null,
            "grid_template_columns": null,
            "flex": null,
            "_model_name": "LayoutModel",
            "justify_items": null,
            "grid_row": null,
            "max_height": null,
            "align_content": null,
            "visibility": null,
            "align_self": null,
            "height": null,
            "min_height": null,
            "padding": null,
            "grid_auto_rows": null,
            "grid_gap": null,
            "max_width": null,
            "order": null,
            "_view_module_version": "1.2.0",
            "grid_template_areas": null,
            "object_position": null,
            "object_fit": null,
            "grid_auto_columns": null,
            "margin": null,
            "display": null,
            "left": null
          }
        },
        "fd8275940afe4d08ba58a1c630a38d23": {
          "model_module": "@jupyter-widgets/controls",
          "model_name": "HTMLModel",
          "model_module_version": "1.5.0",
          "state": {
            "_view_name": "HTMLView",
            "style": "IPY_MODEL_79978a7bd01b425a86d314f0edbd2723",
            "_dom_classes": [],
            "description": "",
            "_model_name": "HTMLModel",
            "placeholder": "​",
            "_view_module": "@jupyter-widgets/controls",
            "_model_module_version": "1.5.0",
            "value": "Downloading: 100%",
            "_view_count": null,
            "_view_module_version": "1.5.0",
            "description_tooltip": null,
            "_model_module": "@jupyter-widgets/controls",
            "layout": "IPY_MODEL_7b74901fc4464be49570a81643fcae20"
          }
        },
        "60c65976ed0e486b928141fb14348353": {
          "model_module": "@jupyter-widgets/controls",
          "model_name": "FloatProgressModel",
          "model_module_version": "1.5.0",
          "state": {
            "_view_name": "ProgressView",
            "style": "IPY_MODEL_8027c1a8a5244ae983ebbc5d99b12e12",
            "_dom_classes": [],
            "description": "",
            "_model_name": "FloatProgressModel",
            "bar_style": "success",
            "max": 1042301,
            "_view_module": "@jupyter-widgets/controls",
            "_model_module_version": "1.5.0",
            "value": 1042301,
            "_view_count": null,
            "_view_module_version": "1.5.0",
            "orientation": "horizontal",
            "min": 0,
            "description_tooltip": null,
            "_model_module": "@jupyter-widgets/controls",
            "layout": "IPY_MODEL_93b0cd20f18a4b3eaf3e03da8a6da41c"
          }
        },
        "cbc3840792b4456b8af40768e4df6ffd": {
          "model_module": "@jupyter-widgets/controls",
          "model_name": "HTMLModel",
          "model_module_version": "1.5.0",
          "state": {
            "_view_name": "HTMLView",
            "style": "IPY_MODEL_5fdf9e74e77b4d5181d4a4296f040153",
            "_dom_classes": [],
            "description": "",
            "_model_name": "HTMLModel",
            "placeholder": "​",
            "_view_module": "@jupyter-widgets/controls",
            "_model_module_version": "1.5.0",
            "value": " 0.99M/0.99M [00:00&lt;00:00, 1.71MB/s]",
            "_view_count": null,
            "_view_module_version": "1.5.0",
            "description_tooltip": null,
            "_model_module": "@jupyter-widgets/controls",
            "layout": "IPY_MODEL_4fb911a7a2ef4c26aeb0a1cfc95a1581"
          }
        },
        "79978a7bd01b425a86d314f0edbd2723": {
          "model_module": "@jupyter-widgets/controls",
          "model_name": "DescriptionStyleModel",
          "model_module_version": "1.5.0",
          "state": {
            "_view_name": "StyleView",
            "_model_name": "DescriptionStyleModel",
            "description_width": "",
            "_view_module": "@jupyter-widgets/base",
            "_model_module_version": "1.5.0",
            "_view_count": null,
            "_view_module_version": "1.2.0",
            "_model_module": "@jupyter-widgets/controls"
          }
        },
        "7b74901fc4464be49570a81643fcae20": {
          "model_module": "@jupyter-widgets/base",
          "model_name": "LayoutModel",
          "model_module_version": "1.2.0",
          "state": {
            "_view_name": "LayoutView",
            "grid_template_rows": null,
            "right": null,
            "justify_content": null,
            "_view_module": "@jupyter-widgets/base",
            "overflow": null,
            "_model_module_version": "1.2.0",
            "_view_count": null,
            "flex_flow": null,
            "width": null,
            "min_width": null,
            "border": null,
            "align_items": null,
            "bottom": null,
            "_model_module": "@jupyter-widgets/base",
            "top": null,
            "grid_column": null,
            "overflow_y": null,
            "overflow_x": null,
            "grid_auto_flow": null,
            "grid_area": null,
            "grid_template_columns": null,
            "flex": null,
            "_model_name": "LayoutModel",
            "justify_items": null,
            "grid_row": null,
            "max_height": null,
            "align_content": null,
            "visibility": null,
            "align_self": null,
            "height": null,
            "min_height": null,
            "padding": null,
            "grid_auto_rows": null,
            "grid_gap": null,
            "max_width": null,
            "order": null,
            "_view_module_version": "1.2.0",
            "grid_template_areas": null,
            "object_position": null,
            "object_fit": null,
            "grid_auto_columns": null,
            "margin": null,
            "display": null,
            "left": null
          }
        },
        "8027c1a8a5244ae983ebbc5d99b12e12": {
          "model_module": "@jupyter-widgets/controls",
          "model_name": "ProgressStyleModel",
          "model_module_version": "1.5.0",
          "state": {
            "_view_name": "StyleView",
            "_model_name": "ProgressStyleModel",
            "description_width": "",
            "_view_module": "@jupyter-widgets/base",
            "_model_module_version": "1.5.0",
            "_view_count": null,
            "_view_module_version": "1.2.0",
            "bar_color": null,
            "_model_module": "@jupyter-widgets/controls"
          }
        },
        "93b0cd20f18a4b3eaf3e03da8a6da41c": {
          "model_module": "@jupyter-widgets/base",
          "model_name": "LayoutModel",
          "model_module_version": "1.2.0",
          "state": {
            "_view_name": "LayoutView",
            "grid_template_rows": null,
            "right": null,
            "justify_content": null,
            "_view_module": "@jupyter-widgets/base",
            "overflow": null,
            "_model_module_version": "1.2.0",
            "_view_count": null,
            "flex_flow": null,
            "width": null,
            "min_width": null,
            "border": null,
            "align_items": null,
            "bottom": null,
            "_model_module": "@jupyter-widgets/base",
            "top": null,
            "grid_column": null,
            "overflow_y": null,
            "overflow_x": null,
            "grid_auto_flow": null,
            "grid_area": null,
            "grid_template_columns": null,
            "flex": null,
            "_model_name": "LayoutModel",
            "justify_items": null,
            "grid_row": null,
            "max_height": null,
            "align_content": null,
            "visibility": null,
            "align_self": null,
            "height": null,
            "min_height": null,
            "padding": null,
            "grid_auto_rows": null,
            "grid_gap": null,
            "max_width": null,
            "order": null,
            "_view_module_version": "1.2.0",
            "grid_template_areas": null,
            "object_position": null,
            "object_fit": null,
            "grid_auto_columns": null,
            "margin": null,
            "display": null,
            "left": null
          }
        },
        "5fdf9e74e77b4d5181d4a4296f040153": {
          "model_module": "@jupyter-widgets/controls",
          "model_name": "DescriptionStyleModel",
          "model_module_version": "1.5.0",
          "state": {
            "_view_name": "StyleView",
            "_model_name": "DescriptionStyleModel",
            "description_width": "",
            "_view_module": "@jupyter-widgets/base",
            "_model_module_version": "1.5.0",
            "_view_count": null,
            "_view_module_version": "1.2.0",
            "_model_module": "@jupyter-widgets/controls"
          }
        },
        "4fb911a7a2ef4c26aeb0a1cfc95a1581": {
          "model_module": "@jupyter-widgets/base",
          "model_name": "LayoutModel",
          "model_module_version": "1.2.0",
          "state": {
            "_view_name": "LayoutView",
            "grid_template_rows": null,
            "right": null,
            "justify_content": null,
            "_view_module": "@jupyter-widgets/base",
            "overflow": null,
            "_model_module_version": "1.2.0",
            "_view_count": null,
            "flex_flow": null,
            "width": null,
            "min_width": null,
            "border": null,
            "align_items": null,
            "bottom": null,
            "_model_module": "@jupyter-widgets/base",
            "top": null,
            "grid_column": null,
            "overflow_y": null,
            "overflow_x": null,
            "grid_auto_flow": null,
            "grid_area": null,
            "grid_template_columns": null,
            "flex": null,
            "_model_name": "LayoutModel",
            "justify_items": null,
            "grid_row": null,
            "max_height": null,
            "align_content": null,
            "visibility": null,
            "align_self": null,
            "height": null,
            "min_height": null,
            "padding": null,
            "grid_auto_rows": null,
            "grid_gap": null,
            "max_width": null,
            "order": null,
            "_view_module_version": "1.2.0",
            "grid_template_areas": null,
            "object_position": null,
            "object_fit": null,
            "grid_auto_columns": null,
            "margin": null,
            "display": null,
            "left": null
          }
        },
        "333ac08c32ce42d3acdca561d5f23f97": {
          "model_module": "@jupyter-widgets/controls",
          "model_name": "HBoxModel",
          "model_module_version": "1.5.0",
          "state": {
            "_view_name": "HBoxView",
            "_dom_classes": [],
            "_model_name": "HBoxModel",
            "_view_module": "@jupyter-widgets/controls",
            "_model_module_version": "1.5.0",
            "_view_count": null,
            "_view_module_version": "1.5.0",
            "box_style": "",
            "layout": "IPY_MODEL_b88369d6ff45479683ca1dfef3f56c42",
            "_model_module": "@jupyter-widgets/controls",
            "children": [
              "IPY_MODEL_71e89b1e6c1b4d87a4fd7e4dfb5defb1",
              "IPY_MODEL_24a1b4ab4e8f442c8fcc07eab1cd7ad7",
              "IPY_MODEL_fcef725f9e7d495b86717e6797088021"
            ]
          }
        },
        "b88369d6ff45479683ca1dfef3f56c42": {
          "model_module": "@jupyter-widgets/base",
          "model_name": "LayoutModel",
          "model_module_version": "1.2.0",
          "state": {
            "_view_name": "LayoutView",
            "grid_template_rows": null,
            "right": null,
            "justify_content": null,
            "_view_module": "@jupyter-widgets/base",
            "overflow": null,
            "_model_module_version": "1.2.0",
            "_view_count": null,
            "flex_flow": null,
            "width": null,
            "min_width": null,
            "border": null,
            "align_items": null,
            "bottom": null,
            "_model_module": "@jupyter-widgets/base",
            "top": null,
            "grid_column": null,
            "overflow_y": null,
            "overflow_x": null,
            "grid_auto_flow": null,
            "grid_area": null,
            "grid_template_columns": null,
            "flex": null,
            "_model_name": "LayoutModel",
            "justify_items": null,
            "grid_row": null,
            "max_height": null,
            "align_content": null,
            "visibility": null,
            "align_self": null,
            "height": null,
            "min_height": null,
            "padding": null,
            "grid_auto_rows": null,
            "grid_gap": null,
            "max_width": null,
            "order": null,
            "_view_module_version": "1.2.0",
            "grid_template_areas": null,
            "object_position": null,
            "object_fit": null,
            "grid_auto_columns": null,
            "margin": null,
            "display": null,
            "left": null
          }
        },
        "71e89b1e6c1b4d87a4fd7e4dfb5defb1": {
          "model_module": "@jupyter-widgets/controls",
          "model_name": "HTMLModel",
          "model_module_version": "1.5.0",
          "state": {
            "_view_name": "HTMLView",
            "style": "IPY_MODEL_be7c4c8a3c5e4548993f8561879e984c",
            "_dom_classes": [],
            "description": "",
            "_model_name": "HTMLModel",
            "placeholder": "​",
            "_view_module": "@jupyter-widgets/controls",
            "_model_module_version": "1.5.0",
            "value": "Downloading: 100%",
            "_view_count": null,
            "_view_module_version": "1.5.0",
            "description_tooltip": null,
            "_model_module": "@jupyter-widgets/controls",
            "layout": "IPY_MODEL_6fcfb6d74e6b4e58b7dd37f13c416054"
          }
        },
        "24a1b4ab4e8f442c8fcc07eab1cd7ad7": {
          "model_module": "@jupyter-widgets/controls",
          "model_name": "FloatProgressModel",
          "model_module_version": "1.5.0",
          "state": {
            "_view_name": "ProgressView",
            "style": "IPY_MODEL_dc93d5c339234d65921cfd7a79d4e013",
            "_dom_classes": [],
            "description": "",
            "_model_name": "FloatProgressModel",
            "bar_style": "success",
            "max": 456318,
            "_view_module": "@jupyter-widgets/controls",
            "_model_module_version": "1.5.0",
            "value": 456318,
            "_view_count": null,
            "_view_module_version": "1.5.0",
            "orientation": "horizontal",
            "min": 0,
            "description_tooltip": null,
            "_model_module": "@jupyter-widgets/controls",
            "layout": "IPY_MODEL_254e90f0ad314286a99aee4316280699"
          }
        },
        "fcef725f9e7d495b86717e6797088021": {
          "model_module": "@jupyter-widgets/controls",
          "model_name": "HTMLModel",
          "model_module_version": "1.5.0",
          "state": {
            "_view_name": "HTMLView",
            "style": "IPY_MODEL_28c118aad4494d85a9591ea8e256dd92",
            "_dom_classes": [],
            "description": "",
            "_model_name": "HTMLModel",
            "placeholder": "​",
            "_view_module": "@jupyter-widgets/controls",
            "_model_module_version": "1.5.0",
            "value": " 446k/446k [00:00&lt;00:00, 599kB/s]",
            "_view_count": null,
            "_view_module_version": "1.5.0",
            "description_tooltip": null,
            "_model_module": "@jupyter-widgets/controls",
            "layout": "IPY_MODEL_c7c130cc9ae24e728eb080676fc9a368"
          }
        },
        "be7c4c8a3c5e4548993f8561879e984c": {
          "model_module": "@jupyter-widgets/controls",
          "model_name": "DescriptionStyleModel",
          "model_module_version": "1.5.0",
          "state": {
            "_view_name": "StyleView",
            "_model_name": "DescriptionStyleModel",
            "description_width": "",
            "_view_module": "@jupyter-widgets/base",
            "_model_module_version": "1.5.0",
            "_view_count": null,
            "_view_module_version": "1.2.0",
            "_model_module": "@jupyter-widgets/controls"
          }
        },
        "6fcfb6d74e6b4e58b7dd37f13c416054": {
          "model_module": "@jupyter-widgets/base",
          "model_name": "LayoutModel",
          "model_module_version": "1.2.0",
          "state": {
            "_view_name": "LayoutView",
            "grid_template_rows": null,
            "right": null,
            "justify_content": null,
            "_view_module": "@jupyter-widgets/base",
            "overflow": null,
            "_model_module_version": "1.2.0",
            "_view_count": null,
            "flex_flow": null,
            "width": null,
            "min_width": null,
            "border": null,
            "align_items": null,
            "bottom": null,
            "_model_module": "@jupyter-widgets/base",
            "top": null,
            "grid_column": null,
            "overflow_y": null,
            "overflow_x": null,
            "grid_auto_flow": null,
            "grid_area": null,
            "grid_template_columns": null,
            "flex": null,
            "_model_name": "LayoutModel",
            "justify_items": null,
            "grid_row": null,
            "max_height": null,
            "align_content": null,
            "visibility": null,
            "align_self": null,
            "height": null,
            "min_height": null,
            "padding": null,
            "grid_auto_rows": null,
            "grid_gap": null,
            "max_width": null,
            "order": null,
            "_view_module_version": "1.2.0",
            "grid_template_areas": null,
            "object_position": null,
            "object_fit": null,
            "grid_auto_columns": null,
            "margin": null,
            "display": null,
            "left": null
          }
        },
        "dc93d5c339234d65921cfd7a79d4e013": {
          "model_module": "@jupyter-widgets/controls",
          "model_name": "ProgressStyleModel",
          "model_module_version": "1.5.0",
          "state": {
            "_view_name": "StyleView",
            "_model_name": "ProgressStyleModel",
            "description_width": "",
            "_view_module": "@jupyter-widgets/base",
            "_model_module_version": "1.5.0",
            "_view_count": null,
            "_view_module_version": "1.2.0",
            "bar_color": null,
            "_model_module": "@jupyter-widgets/controls"
          }
        },
        "254e90f0ad314286a99aee4316280699": {
          "model_module": "@jupyter-widgets/base",
          "model_name": "LayoutModel",
          "model_module_version": "1.2.0",
          "state": {
            "_view_name": "LayoutView",
            "grid_template_rows": null,
            "right": null,
            "justify_content": null,
            "_view_module": "@jupyter-widgets/base",
            "overflow": null,
            "_model_module_version": "1.2.0",
            "_view_count": null,
            "flex_flow": null,
            "width": null,
            "min_width": null,
            "border": null,
            "align_items": null,
            "bottom": null,
            "_model_module": "@jupyter-widgets/base",
            "top": null,
            "grid_column": null,
            "overflow_y": null,
            "overflow_x": null,
            "grid_auto_flow": null,
            "grid_area": null,
            "grid_template_columns": null,
            "flex": null,
            "_model_name": "LayoutModel",
            "justify_items": null,
            "grid_row": null,
            "max_height": null,
            "align_content": null,
            "visibility": null,
            "align_self": null,
            "height": null,
            "min_height": null,
            "padding": null,
            "grid_auto_rows": null,
            "grid_gap": null,
            "max_width": null,
            "order": null,
            "_view_module_version": "1.2.0",
            "grid_template_areas": null,
            "object_position": null,
            "object_fit": null,
            "grid_auto_columns": null,
            "margin": null,
            "display": null,
            "left": null
          }
        },
        "28c118aad4494d85a9591ea8e256dd92": {
          "model_module": "@jupyter-widgets/controls",
          "model_name": "DescriptionStyleModel",
          "model_module_version": "1.5.0",
          "state": {
            "_view_name": "StyleView",
            "_model_name": "DescriptionStyleModel",
            "description_width": "",
            "_view_module": "@jupyter-widgets/base",
            "_model_module_version": "1.5.0",
            "_view_count": null,
            "_view_module_version": "1.2.0",
            "_model_module": "@jupyter-widgets/controls"
          }
        },
        "c7c130cc9ae24e728eb080676fc9a368": {
          "model_module": "@jupyter-widgets/base",
          "model_name": "LayoutModel",
          "model_module_version": "1.2.0",
          "state": {
            "_view_name": "LayoutView",
            "grid_template_rows": null,
            "right": null,
            "justify_content": null,
            "_view_module": "@jupyter-widgets/base",
            "overflow": null,
            "_model_module_version": "1.2.0",
            "_view_count": null,
            "flex_flow": null,
            "width": null,
            "min_width": null,
            "border": null,
            "align_items": null,
            "bottom": null,
            "_model_module": "@jupyter-widgets/base",
            "top": null,
            "grid_column": null,
            "overflow_y": null,
            "overflow_x": null,
            "grid_auto_flow": null,
            "grid_area": null,
            "grid_template_columns": null,
            "flex": null,
            "_model_name": "LayoutModel",
            "justify_items": null,
            "grid_row": null,
            "max_height": null,
            "align_content": null,
            "visibility": null,
            "align_self": null,
            "height": null,
            "min_height": null,
            "padding": null,
            "grid_auto_rows": null,
            "grid_gap": null,
            "max_width": null,
            "order": null,
            "_view_module_version": "1.2.0",
            "grid_template_areas": null,
            "object_position": null,
            "object_fit": null,
            "grid_auto_columns": null,
            "margin": null,
            "display": null,
            "left": null
          }
        },
        "7c1c72527f724ec68fabb0d3e4175b4c": {
          "model_module": "@jupyter-widgets/controls",
          "model_name": "HBoxModel",
          "model_module_version": "1.5.0",
          "state": {
            "_view_name": "HBoxView",
            "_dom_classes": [],
            "_model_name": "HBoxModel",
            "_view_module": "@jupyter-widgets/controls",
            "_model_module_version": "1.5.0",
            "_view_count": null,
            "_view_module_version": "1.5.0",
            "box_style": "",
            "layout": "IPY_MODEL_6c864aee63344c2da8d5274133b02637",
            "_model_module": "@jupyter-widgets/controls",
            "children": [
              "IPY_MODEL_1c6b1d7b8d2d47c49acd86161c15766f",
              "IPY_MODEL_3bdf889a085d462c9ca290ca282f26f0",
              "IPY_MODEL_b62b529678c94306a9379360a659fe0b"
            ]
          }
        },
        "6c864aee63344c2da8d5274133b02637": {
          "model_module": "@jupyter-widgets/base",
          "model_name": "LayoutModel",
          "model_module_version": "1.2.0",
          "state": {
            "_view_name": "LayoutView",
            "grid_template_rows": null,
            "right": null,
            "justify_content": null,
            "_view_module": "@jupyter-widgets/base",
            "overflow": null,
            "_model_module_version": "1.2.0",
            "_view_count": null,
            "flex_flow": null,
            "width": null,
            "min_width": null,
            "border": null,
            "align_items": null,
            "bottom": null,
            "_model_module": "@jupyter-widgets/base",
            "top": null,
            "grid_column": null,
            "overflow_y": null,
            "overflow_x": null,
            "grid_auto_flow": null,
            "grid_area": null,
            "grid_template_columns": null,
            "flex": null,
            "_model_name": "LayoutModel",
            "justify_items": null,
            "grid_row": null,
            "max_height": null,
            "align_content": null,
            "visibility": null,
            "align_self": null,
            "height": null,
            "min_height": null,
            "padding": null,
            "grid_auto_rows": null,
            "grid_gap": null,
            "max_width": null,
            "order": null,
            "_view_module_version": "1.2.0",
            "grid_template_areas": null,
            "object_position": null,
            "object_fit": null,
            "grid_auto_columns": null,
            "margin": null,
            "display": null,
            "left": null
          }
        },
        "1c6b1d7b8d2d47c49acd86161c15766f": {
          "model_module": "@jupyter-widgets/controls",
          "model_name": "HTMLModel",
          "model_module_version": "1.5.0",
          "state": {
            "_view_name": "HTMLView",
            "style": "IPY_MODEL_cc94c00b06814e7facdc9de4dc3362c1",
            "_dom_classes": [],
            "description": "",
            "_model_name": "HTMLModel",
            "placeholder": "​",
            "_view_module": "@jupyter-widgets/controls",
            "_model_module_version": "1.5.0",
            "value": "Downloading: 100%",
            "_view_count": null,
            "_view_module_version": "1.5.0",
            "description_tooltip": null,
            "_model_module": "@jupyter-widgets/controls",
            "layout": "IPY_MODEL_d373df82206442ee975056131bc6dcde"
          }
        },
        "3bdf889a085d462c9ca290ca282f26f0": {
          "model_module": "@jupyter-widgets/controls",
          "model_name": "FloatProgressModel",
          "model_module_version": "1.5.0",
          "state": {
            "_view_name": "ProgressView",
            "style": "IPY_MODEL_aa12265430f4428cb08900d9728b2660",
            "_dom_classes": [],
            "description": "",
            "_model_name": "FloatProgressModel",
            "bar_style": "success",
            "max": 1355256,
            "_view_module": "@jupyter-widgets/controls",
            "_model_module_version": "1.5.0",
            "value": 1355256,
            "_view_count": null,
            "_view_module_version": "1.5.0",
            "orientation": "horizontal",
            "min": 0,
            "description_tooltip": null,
            "_model_module": "@jupyter-widgets/controls",
            "layout": "IPY_MODEL_c7915d540e074468a5b8375e3b2ef049"
          }
        },
        "b62b529678c94306a9379360a659fe0b": {
          "model_module": "@jupyter-widgets/controls",
          "model_name": "HTMLModel",
          "model_module_version": "1.5.0",
          "state": {
            "_view_name": "HTMLView",
            "style": "IPY_MODEL_a9075c2221e44473a89981a711498e80",
            "_dom_classes": [],
            "description": "",
            "_model_name": "HTMLModel",
            "placeholder": "​",
            "_view_module": "@jupyter-widgets/controls",
            "_model_module_version": "1.5.0",
            "value": " 1.29M/1.29M [00:00&lt;00:00, 2.88MB/s]",
            "_view_count": null,
            "_view_module_version": "1.5.0",
            "description_tooltip": null,
            "_model_module": "@jupyter-widgets/controls",
            "layout": "IPY_MODEL_1c8d45725bfd42ea8487488983dd799a"
          }
        },
        "cc94c00b06814e7facdc9de4dc3362c1": {
          "model_module": "@jupyter-widgets/controls",
          "model_name": "DescriptionStyleModel",
          "model_module_version": "1.5.0",
          "state": {
            "_view_name": "StyleView",
            "_model_name": "DescriptionStyleModel",
            "description_width": "",
            "_view_module": "@jupyter-widgets/base",
            "_model_module_version": "1.5.0",
            "_view_count": null,
            "_view_module_version": "1.2.0",
            "_model_module": "@jupyter-widgets/controls"
          }
        },
        "d373df82206442ee975056131bc6dcde": {
          "model_module": "@jupyter-widgets/base",
          "model_name": "LayoutModel",
          "model_module_version": "1.2.0",
          "state": {
            "_view_name": "LayoutView",
            "grid_template_rows": null,
            "right": null,
            "justify_content": null,
            "_view_module": "@jupyter-widgets/base",
            "overflow": null,
            "_model_module_version": "1.2.0",
            "_view_count": null,
            "flex_flow": null,
            "width": null,
            "min_width": null,
            "border": null,
            "align_items": null,
            "bottom": null,
            "_model_module": "@jupyter-widgets/base",
            "top": null,
            "grid_column": null,
            "overflow_y": null,
            "overflow_x": null,
            "grid_auto_flow": null,
            "grid_area": null,
            "grid_template_columns": null,
            "flex": null,
            "_model_name": "LayoutModel",
            "justify_items": null,
            "grid_row": null,
            "max_height": null,
            "align_content": null,
            "visibility": null,
            "align_self": null,
            "height": null,
            "min_height": null,
            "padding": null,
            "grid_auto_rows": null,
            "grid_gap": null,
            "max_width": null,
            "order": null,
            "_view_module_version": "1.2.0",
            "grid_template_areas": null,
            "object_position": null,
            "object_fit": null,
            "grid_auto_columns": null,
            "margin": null,
            "display": null,
            "left": null
          }
        },
        "aa12265430f4428cb08900d9728b2660": {
          "model_module": "@jupyter-widgets/controls",
          "model_name": "ProgressStyleModel",
          "model_module_version": "1.5.0",
          "state": {
            "_view_name": "StyleView",
            "_model_name": "ProgressStyleModel",
            "description_width": "",
            "_view_module": "@jupyter-widgets/base",
            "_model_module_version": "1.5.0",
            "_view_count": null,
            "_view_module_version": "1.2.0",
            "bar_color": null,
            "_model_module": "@jupyter-widgets/controls"
          }
        },
        "c7915d540e074468a5b8375e3b2ef049": {
          "model_module": "@jupyter-widgets/base",
          "model_name": "LayoutModel",
          "model_module_version": "1.2.0",
          "state": {
            "_view_name": "LayoutView",
            "grid_template_rows": null,
            "right": null,
            "justify_content": null,
            "_view_module": "@jupyter-widgets/base",
            "overflow": null,
            "_model_module_version": "1.2.0",
            "_view_count": null,
            "flex_flow": null,
            "width": null,
            "min_width": null,
            "border": null,
            "align_items": null,
            "bottom": null,
            "_model_module": "@jupyter-widgets/base",
            "top": null,
            "grid_column": null,
            "overflow_y": null,
            "overflow_x": null,
            "grid_auto_flow": null,
            "grid_area": null,
            "grid_template_columns": null,
            "flex": null,
            "_model_name": "LayoutModel",
            "justify_items": null,
            "grid_row": null,
            "max_height": null,
            "align_content": null,
            "visibility": null,
            "align_self": null,
            "height": null,
            "min_height": null,
            "padding": null,
            "grid_auto_rows": null,
            "grid_gap": null,
            "max_width": null,
            "order": null,
            "_view_module_version": "1.2.0",
            "grid_template_areas": null,
            "object_position": null,
            "object_fit": null,
            "grid_auto_columns": null,
            "margin": null,
            "display": null,
            "left": null
          }
        },
        "a9075c2221e44473a89981a711498e80": {
          "model_module": "@jupyter-widgets/controls",
          "model_name": "DescriptionStyleModel",
          "model_module_version": "1.5.0",
          "state": {
            "_view_name": "StyleView",
            "_model_name": "DescriptionStyleModel",
            "description_width": "",
            "_view_module": "@jupyter-widgets/base",
            "_model_module_version": "1.5.0",
            "_view_count": null,
            "_view_module_version": "1.2.0",
            "_model_module": "@jupyter-widgets/controls"
          }
        },
        "1c8d45725bfd42ea8487488983dd799a": {
          "model_module": "@jupyter-widgets/base",
          "model_name": "LayoutModel",
          "model_module_version": "1.2.0",
          "state": {
            "_view_name": "LayoutView",
            "grid_template_rows": null,
            "right": null,
            "justify_content": null,
            "_view_module": "@jupyter-widgets/base",
            "overflow": null,
            "_model_module_version": "1.2.0",
            "_view_count": null,
            "flex_flow": null,
            "width": null,
            "min_width": null,
            "border": null,
            "align_items": null,
            "bottom": null,
            "_model_module": "@jupyter-widgets/base",
            "top": null,
            "grid_column": null,
            "overflow_y": null,
            "overflow_x": null,
            "grid_auto_flow": null,
            "grid_area": null,
            "grid_template_columns": null,
            "flex": null,
            "_model_name": "LayoutModel",
            "justify_items": null,
            "grid_row": null,
            "max_height": null,
            "align_content": null,
            "visibility": null,
            "align_self": null,
            "height": null,
            "min_height": null,
            "padding": null,
            "grid_auto_rows": null,
            "grid_gap": null,
            "max_width": null,
            "order": null,
            "_view_module_version": "1.2.0",
            "grid_template_areas": null,
            "object_position": null,
            "object_fit": null,
            "grid_auto_columns": null,
            "margin": null,
            "display": null,
            "left": null
          }
        },
        "3b446095a66f4b2c9b0f3a215972645a": {
          "model_module": "@jupyter-widgets/controls",
          "model_name": "HBoxModel",
          "model_module_version": "1.5.0",
          "state": {
            "_view_name": "HBoxView",
            "_dom_classes": [],
            "_model_name": "HBoxModel",
            "_view_module": "@jupyter-widgets/controls",
            "_model_module_version": "1.5.0",
            "_view_count": null,
            "_view_module_version": "1.5.0",
            "box_style": "",
            "layout": "IPY_MODEL_5de69c62025a4d3fbc6313a20e777293",
            "_model_module": "@jupyter-widgets/controls",
            "children": [
              "IPY_MODEL_58a313d6c8b24b2a8f1089719d09a54e",
              "IPY_MODEL_ea4a8638f5704206b50099403228f0b0",
              "IPY_MODEL_3769e3876c8e4929bb111f90615694ea"
            ]
          }
        },
        "5de69c62025a4d3fbc6313a20e777293": {
          "model_module": "@jupyter-widgets/base",
          "model_name": "LayoutModel",
          "model_module_version": "1.2.0",
          "state": {
            "_view_name": "LayoutView",
            "grid_template_rows": null,
            "right": null,
            "justify_content": null,
            "_view_module": "@jupyter-widgets/base",
            "overflow": null,
            "_model_module_version": "1.2.0",
            "_view_count": null,
            "flex_flow": null,
            "width": null,
            "min_width": null,
            "border": null,
            "align_items": null,
            "bottom": null,
            "_model_module": "@jupyter-widgets/base",
            "top": null,
            "grid_column": null,
            "overflow_y": null,
            "overflow_x": null,
            "grid_auto_flow": null,
            "grid_area": null,
            "grid_template_columns": null,
            "flex": null,
            "_model_name": "LayoutModel",
            "justify_items": null,
            "grid_row": null,
            "max_height": null,
            "align_content": null,
            "visibility": null,
            "align_self": null,
            "height": null,
            "min_height": null,
            "padding": null,
            "grid_auto_rows": null,
            "grid_gap": null,
            "max_width": null,
            "order": null,
            "_view_module_version": "1.2.0",
            "grid_template_areas": null,
            "object_position": null,
            "object_fit": null,
            "grid_auto_columns": null,
            "margin": null,
            "display": null,
            "left": null
          }
        },
        "58a313d6c8b24b2a8f1089719d09a54e": {
          "model_module": "@jupyter-widgets/controls",
          "model_name": "HTMLModel",
          "model_module_version": "1.5.0",
          "state": {
            "_view_name": "HTMLView",
            "style": "IPY_MODEL_55f786d6df5f48cf8098c2f5738b1c68",
            "_dom_classes": [],
            "description": "",
            "_model_name": "HTMLModel",
            "placeholder": "​",
            "_view_module": "@jupyter-widgets/controls",
            "_model_module_version": "1.5.0",
            "value": "Downloading: 100%",
            "_view_count": null,
            "_view_module_version": "1.5.0",
            "description_tooltip": null,
            "_model_module": "@jupyter-widgets/controls",
            "layout": "IPY_MODEL_be1d9771c03f4dbcbef7d18317432940"
          }
        },
        "ea4a8638f5704206b50099403228f0b0": {
          "model_module": "@jupyter-widgets/controls",
          "model_name": "FloatProgressModel",
          "model_module_version": "1.5.0",
          "state": {
            "_view_name": "ProgressView",
            "style": "IPY_MODEL_1a743d2d5d4a4366950adf2dd1ad1336",
            "_dom_classes": [],
            "description": "",
            "_model_name": "FloatProgressModel",
            "bar_style": "success",
            "max": 689,
            "_view_module": "@jupyter-widgets/controls",
            "_model_module_version": "1.5.0",
            "value": 689,
            "_view_count": null,
            "_view_module_version": "1.5.0",
            "orientation": "horizontal",
            "min": 0,
            "description_tooltip": null,
            "_model_module": "@jupyter-widgets/controls",
            "layout": "IPY_MODEL_c52a49c729b34bd4909e14947571f051"
          }
        },
        "3769e3876c8e4929bb111f90615694ea": {
          "model_module": "@jupyter-widgets/controls",
          "model_name": "HTMLModel",
          "model_module_version": "1.5.0",
          "state": {
            "_view_name": "HTMLView",
            "style": "IPY_MODEL_ea71fae4491e444396f86a6ee6b25140",
            "_dom_classes": [],
            "description": "",
            "_model_name": "HTMLModel",
            "placeholder": "​",
            "_view_module": "@jupyter-widgets/controls",
            "_model_module_version": "1.5.0",
            "value": " 689/689 [00:00&lt;00:00, 12.6kB/s]",
            "_view_count": null,
            "_view_module_version": "1.5.0",
            "description_tooltip": null,
            "_model_module": "@jupyter-widgets/controls",
            "layout": "IPY_MODEL_c6bf3765ac684717bbec9d5cf3dae7a7"
          }
        },
        "55f786d6df5f48cf8098c2f5738b1c68": {
          "model_module": "@jupyter-widgets/controls",
          "model_name": "DescriptionStyleModel",
          "model_module_version": "1.5.0",
          "state": {
            "_view_name": "StyleView",
            "_model_name": "DescriptionStyleModel",
            "description_width": "",
            "_view_module": "@jupyter-widgets/base",
            "_model_module_version": "1.5.0",
            "_view_count": null,
            "_view_module_version": "1.2.0",
            "_model_module": "@jupyter-widgets/controls"
          }
        },
        "be1d9771c03f4dbcbef7d18317432940": {
          "model_module": "@jupyter-widgets/base",
          "model_name": "LayoutModel",
          "model_module_version": "1.2.0",
          "state": {
            "_view_name": "LayoutView",
            "grid_template_rows": null,
            "right": null,
            "justify_content": null,
            "_view_module": "@jupyter-widgets/base",
            "overflow": null,
            "_model_module_version": "1.2.0",
            "_view_count": null,
            "flex_flow": null,
            "width": null,
            "min_width": null,
            "border": null,
            "align_items": null,
            "bottom": null,
            "_model_module": "@jupyter-widgets/base",
            "top": null,
            "grid_column": null,
            "overflow_y": null,
            "overflow_x": null,
            "grid_auto_flow": null,
            "grid_area": null,
            "grid_template_columns": null,
            "flex": null,
            "_model_name": "LayoutModel",
            "justify_items": null,
            "grid_row": null,
            "max_height": null,
            "align_content": null,
            "visibility": null,
            "align_self": null,
            "height": null,
            "min_height": null,
            "padding": null,
            "grid_auto_rows": null,
            "grid_gap": null,
            "max_width": null,
            "order": null,
            "_view_module_version": "1.2.0",
            "grid_template_areas": null,
            "object_position": null,
            "object_fit": null,
            "grid_auto_columns": null,
            "margin": null,
            "display": null,
            "left": null
          }
        },
        "1a743d2d5d4a4366950adf2dd1ad1336": {
          "model_module": "@jupyter-widgets/controls",
          "model_name": "ProgressStyleModel",
          "model_module_version": "1.5.0",
          "state": {
            "_view_name": "StyleView",
            "_model_name": "ProgressStyleModel",
            "description_width": "",
            "_view_module": "@jupyter-widgets/base",
            "_model_module_version": "1.5.0",
            "_view_count": null,
            "_view_module_version": "1.2.0",
            "bar_color": null,
            "_model_module": "@jupyter-widgets/controls"
          }
        },
        "c52a49c729b34bd4909e14947571f051": {
          "model_module": "@jupyter-widgets/base",
          "model_name": "LayoutModel",
          "model_module_version": "1.2.0",
          "state": {
            "_view_name": "LayoutView",
            "grid_template_rows": null,
            "right": null,
            "justify_content": null,
            "_view_module": "@jupyter-widgets/base",
            "overflow": null,
            "_model_module_version": "1.2.0",
            "_view_count": null,
            "flex_flow": null,
            "width": null,
            "min_width": null,
            "border": null,
            "align_items": null,
            "bottom": null,
            "_model_module": "@jupyter-widgets/base",
            "top": null,
            "grid_column": null,
            "overflow_y": null,
            "overflow_x": null,
            "grid_auto_flow": null,
            "grid_area": null,
            "grid_template_columns": null,
            "flex": null,
            "_model_name": "LayoutModel",
            "justify_items": null,
            "grid_row": null,
            "max_height": null,
            "align_content": null,
            "visibility": null,
            "align_self": null,
            "height": null,
            "min_height": null,
            "padding": null,
            "grid_auto_rows": null,
            "grid_gap": null,
            "max_width": null,
            "order": null,
            "_view_module_version": "1.2.0",
            "grid_template_areas": null,
            "object_position": null,
            "object_fit": null,
            "grid_auto_columns": null,
            "margin": null,
            "display": null,
            "left": null
          }
        },
        "ea71fae4491e444396f86a6ee6b25140": {
          "model_module": "@jupyter-widgets/controls",
          "model_name": "DescriptionStyleModel",
          "model_module_version": "1.5.0",
          "state": {
            "_view_name": "StyleView",
            "_model_name": "DescriptionStyleModel",
            "description_width": "",
            "_view_module": "@jupyter-widgets/base",
            "_model_module_version": "1.5.0",
            "_view_count": null,
            "_view_module_version": "1.2.0",
            "_model_module": "@jupyter-widgets/controls"
          }
        },
        "c6bf3765ac684717bbec9d5cf3dae7a7": {
          "model_module": "@jupyter-widgets/base",
          "model_name": "LayoutModel",
          "model_module_version": "1.2.0",
          "state": {
            "_view_name": "LayoutView",
            "grid_template_rows": null,
            "right": null,
            "justify_content": null,
            "_view_module": "@jupyter-widgets/base",
            "overflow": null,
            "_model_module_version": "1.2.0",
            "_view_count": null,
            "flex_flow": null,
            "width": null,
            "min_width": null,
            "border": null,
            "align_items": null,
            "bottom": null,
            "_model_module": "@jupyter-widgets/base",
            "top": null,
            "grid_column": null,
            "overflow_y": null,
            "overflow_x": null,
            "grid_auto_flow": null,
            "grid_area": null,
            "grid_template_columns": null,
            "flex": null,
            "_model_name": "LayoutModel",
            "justify_items": null,
            "grid_row": null,
            "max_height": null,
            "align_content": null,
            "visibility": null,
            "align_self": null,
            "height": null,
            "min_height": null,
            "padding": null,
            "grid_auto_rows": null,
            "grid_gap": null,
            "max_width": null,
            "order": null,
            "_view_module_version": "1.2.0",
            "grid_template_areas": null,
            "object_position": null,
            "object_fit": null,
            "grid_auto_columns": null,
            "margin": null,
            "display": null,
            "left": null
          }
        },
        "2ac442697a844f89a35921dd38e17015": {
          "model_module": "@jupyter-widgets/controls",
          "model_name": "HBoxModel",
          "model_module_version": "1.5.0",
          "state": {
            "_view_name": "HBoxView",
            "_dom_classes": [],
            "_model_name": "HBoxModel",
            "_view_module": "@jupyter-widgets/controls",
            "_model_module_version": "1.5.0",
            "_view_count": null,
            "_view_module_version": "1.5.0",
            "box_style": "",
            "layout": "IPY_MODEL_1ee544d9102444aaae4463704229064e",
            "_model_module": "@jupyter-widgets/controls",
            "children": [
              "IPY_MODEL_da619e1ee535455d8d0238e383e431b6",
              "IPY_MODEL_9d97493d43e84d448874750e6f106e93",
              "IPY_MODEL_01e8a3a8199b4d77971c9e08efb4a589"
            ]
          }
        },
        "1ee544d9102444aaae4463704229064e": {
          "model_module": "@jupyter-widgets/base",
          "model_name": "LayoutModel",
          "model_module_version": "1.2.0",
          "state": {
            "_view_name": "LayoutView",
            "grid_template_rows": null,
            "right": null,
            "justify_content": null,
            "_view_module": "@jupyter-widgets/base",
            "overflow": null,
            "_model_module_version": "1.2.0",
            "_view_count": null,
            "flex_flow": null,
            "width": null,
            "min_width": null,
            "border": null,
            "align_items": null,
            "bottom": null,
            "_model_module": "@jupyter-widgets/base",
            "top": null,
            "grid_column": null,
            "overflow_y": null,
            "overflow_x": null,
            "grid_auto_flow": null,
            "grid_area": null,
            "grid_template_columns": null,
            "flex": null,
            "_model_name": "LayoutModel",
            "justify_items": null,
            "grid_row": null,
            "max_height": null,
            "align_content": null,
            "visibility": null,
            "align_self": null,
            "height": null,
            "min_height": null,
            "padding": null,
            "grid_auto_rows": null,
            "grid_gap": null,
            "max_width": null,
            "order": null,
            "_view_module_version": "1.2.0",
            "grid_template_areas": null,
            "object_position": null,
            "object_fit": null,
            "grid_auto_columns": null,
            "margin": null,
            "display": null,
            "left": null
          }
        },
        "da619e1ee535455d8d0238e383e431b6": {
          "model_module": "@jupyter-widgets/controls",
          "model_name": "HTMLModel",
          "model_module_version": "1.5.0",
          "state": {
            "_view_name": "HTMLView",
            "style": "IPY_MODEL_8cbeed790f2a438b90308c40f5fa5c07",
            "_dom_classes": [],
            "description": "",
            "_model_name": "HTMLModel",
            "placeholder": "​",
            "_view_module": "@jupyter-widgets/controls",
            "_model_module_version": "1.5.0",
            "value": "Downloading: 100%",
            "_view_count": null,
            "_view_module_version": "1.5.0",
            "description_tooltip": null,
            "_model_module": "@jupyter-widgets/controls",
            "layout": "IPY_MODEL_e94efbef549648ab84d12d5ca7a7791f"
          }
        },
        "9d97493d43e84d448874750e6f106e93": {
          "model_module": "@jupyter-widgets/controls",
          "model_name": "FloatProgressModel",
          "model_module_version": "1.5.0",
          "state": {
            "_view_name": "ProgressView",
            "style": "IPY_MODEL_1bd25e863594441c8f9b7374965639be",
            "_dom_classes": [],
            "description": "",
            "_model_name": "FloatProgressModel",
            "bar_style": "success",
            "max": 6231102792,
            "_view_module": "@jupyter-widgets/controls",
            "_model_module_version": "1.5.0",
            "value": 6231102792,
            "_view_count": null,
            "_view_module_version": "1.5.0",
            "orientation": "horizontal",
            "min": 0,
            "description_tooltip": null,
            "_model_module": "@jupyter-widgets/controls",
            "layout": "IPY_MODEL_9c1bcd0319a0494eab89de08708b231f"
          }
        },
        "01e8a3a8199b4d77971c9e08efb4a589": {
          "model_module": "@jupyter-widgets/controls",
          "model_name": "HTMLModel",
          "model_module_version": "1.5.0",
          "state": {
            "_view_name": "HTMLView",
            "style": "IPY_MODEL_1f8a9853e84b48b4a9349ab0662c9742",
            "_dom_classes": [],
            "description": "",
            "_model_name": "HTMLModel",
            "placeholder": "​",
            "_view_module": "@jupyter-widgets/controls",
            "_model_module_version": "1.5.0",
            "value": " 5.80G/5.80G [03:05&lt;00:00, 34.8MB/s]",
            "_view_count": null,
            "_view_module_version": "1.5.0",
            "description_tooltip": null,
            "_model_module": "@jupyter-widgets/controls",
            "layout": "IPY_MODEL_7a395142aca344e1b2bb54c55b3d3af1"
          }
        },
        "8cbeed790f2a438b90308c40f5fa5c07": {
          "model_module": "@jupyter-widgets/controls",
          "model_name": "DescriptionStyleModel",
          "model_module_version": "1.5.0",
          "state": {
            "_view_name": "StyleView",
            "_model_name": "DescriptionStyleModel",
            "description_width": "",
            "_view_module": "@jupyter-widgets/base",
            "_model_module_version": "1.5.0",
            "_view_count": null,
            "_view_module_version": "1.2.0",
            "_model_module": "@jupyter-widgets/controls"
          }
        },
        "e94efbef549648ab84d12d5ca7a7791f": {
          "model_module": "@jupyter-widgets/base",
          "model_name": "LayoutModel",
          "model_module_version": "1.2.0",
          "state": {
            "_view_name": "LayoutView",
            "grid_template_rows": null,
            "right": null,
            "justify_content": null,
            "_view_module": "@jupyter-widgets/base",
            "overflow": null,
            "_model_module_version": "1.2.0",
            "_view_count": null,
            "flex_flow": null,
            "width": null,
            "min_width": null,
            "border": null,
            "align_items": null,
            "bottom": null,
            "_model_module": "@jupyter-widgets/base",
            "top": null,
            "grid_column": null,
            "overflow_y": null,
            "overflow_x": null,
            "grid_auto_flow": null,
            "grid_area": null,
            "grid_template_columns": null,
            "flex": null,
            "_model_name": "LayoutModel",
            "justify_items": null,
            "grid_row": null,
            "max_height": null,
            "align_content": null,
            "visibility": null,
            "align_self": null,
            "height": null,
            "min_height": null,
            "padding": null,
            "grid_auto_rows": null,
            "grid_gap": null,
            "max_width": null,
            "order": null,
            "_view_module_version": "1.2.0",
            "grid_template_areas": null,
            "object_position": null,
            "object_fit": null,
            "grid_auto_columns": null,
            "margin": null,
            "display": null,
            "left": null
          }
        },
        "1bd25e863594441c8f9b7374965639be": {
          "model_module": "@jupyter-widgets/controls",
          "model_name": "ProgressStyleModel",
          "model_module_version": "1.5.0",
          "state": {
            "_view_name": "StyleView",
            "_model_name": "ProgressStyleModel",
            "description_width": "",
            "_view_module": "@jupyter-widgets/base",
            "_model_module_version": "1.5.0",
            "_view_count": null,
            "_view_module_version": "1.2.0",
            "bar_color": null,
            "_model_module": "@jupyter-widgets/controls"
          }
        },
        "9c1bcd0319a0494eab89de08708b231f": {
          "model_module": "@jupyter-widgets/base",
          "model_name": "LayoutModel",
          "model_module_version": "1.2.0",
          "state": {
            "_view_name": "LayoutView",
            "grid_template_rows": null,
            "right": null,
            "justify_content": null,
            "_view_module": "@jupyter-widgets/base",
            "overflow": null,
            "_model_module_version": "1.2.0",
            "_view_count": null,
            "flex_flow": null,
            "width": null,
            "min_width": null,
            "border": null,
            "align_items": null,
            "bottom": null,
            "_model_module": "@jupyter-widgets/base",
            "top": null,
            "grid_column": null,
            "overflow_y": null,
            "overflow_x": null,
            "grid_auto_flow": null,
            "grid_area": null,
            "grid_template_columns": null,
            "flex": null,
            "_model_name": "LayoutModel",
            "justify_items": null,
            "grid_row": null,
            "max_height": null,
            "align_content": null,
            "visibility": null,
            "align_self": null,
            "height": null,
            "min_height": null,
            "padding": null,
            "grid_auto_rows": null,
            "grid_gap": null,
            "max_width": null,
            "order": null,
            "_view_module_version": "1.2.0",
            "grid_template_areas": null,
            "object_position": null,
            "object_fit": null,
            "grid_auto_columns": null,
            "margin": null,
            "display": null,
            "left": null
          }
        },
        "1f8a9853e84b48b4a9349ab0662c9742": {
          "model_module": "@jupyter-widgets/controls",
          "model_name": "DescriptionStyleModel",
          "model_module_version": "1.5.0",
          "state": {
            "_view_name": "StyleView",
            "_model_name": "DescriptionStyleModel",
            "description_width": "",
            "_view_module": "@jupyter-widgets/base",
            "_model_module_version": "1.5.0",
            "_view_count": null,
            "_view_module_version": "1.2.0",
            "_model_module": "@jupyter-widgets/controls"
          }
        },
        "7a395142aca344e1b2bb54c55b3d3af1": {
          "model_module": "@jupyter-widgets/base",
          "model_name": "LayoutModel",
          "model_module_version": "1.2.0",
          "state": {
            "_view_name": "LayoutView",
            "grid_template_rows": null,
            "right": null,
            "justify_content": null,
            "_view_module": "@jupyter-widgets/base",
            "overflow": null,
            "_model_module_version": "1.2.0",
            "_view_count": null,
            "flex_flow": null,
            "width": null,
            "min_width": null,
            "border": null,
            "align_items": null,
            "bottom": null,
            "_model_module": "@jupyter-widgets/base",
            "top": null,
            "grid_column": null,
            "overflow_y": null,
            "overflow_x": null,
            "grid_auto_flow": null,
            "grid_area": null,
            "grid_template_columns": null,
            "flex": null,
            "_model_name": "LayoutModel",
            "justify_items": null,
            "grid_row": null,
            "max_height": null,
            "align_content": null,
            "visibility": null,
            "align_self": null,
            "height": null,
            "min_height": null,
            "padding": null,
            "grid_auto_rows": null,
            "grid_gap": null,
            "max_width": null,
            "order": null,
            "_view_module_version": "1.2.0",
            "grid_template_areas": null,
            "object_position": null,
            "object_fit": null,
            "grid_auto_columns": null,
            "margin": null,
            "display": null,
            "left": null
          }
        }
      }
    }
  },
  "cells": [
    {
      "cell_type": "markdown",
      "metadata": {
        "id": "view-in-github",
        "colab_type": "text"
      },
      "source": [
        "<a href=\"https://colab.research.google.com/github/AhmedSSoliman/Text-to-Text-using-GPT2-xl-with-GRADIO-UI/blob/main/Text_to_Text_using_GPT2_xl_with_GRADIO_UI.ipynb\" target=\"_parent\"><img src=\"https://colab.research.google.com/assets/colab-badge.svg\" alt=\"Open In Colab\"/></a>"
      ]
    },
    {
      "cell_type": "markdown",
      "metadata": {
        "id": "Ko3J-uXeg2T3"
      },
      "source": [
        "## Using Gradio to wrap a text to text interface around GPT-2 \n",
        "\n",
        "Check out the library on [github](https://github.com/gradio-app/gradio-UI) and see the [getting started](https://gradio.app/getting_started.html) page \n",
        "Gradio helps to create UIs for prototyping your machine learning model."
      ]
    },
    {
      "cell_type": "markdown",
      "metadata": {
        "id": "npQy3li2g923"
      },
      "source": [
        "### Installs and Imports"
      ]
    },
    {
      "cell_type": "code",
      "metadata": {
        "id": "NfR2g52--Gus",
        "colab": {
          "base_uri": "https://localhost:8080/"
        },
        "outputId": "b06074ff-8dd8-4ebd-f66b-726dc88bec37"
      },
      "source": [
        "!pip install -q gradio\n",
        "!pip install -q git+https://github.com/huggingface/transformers.git"
      ],
      "execution_count": 1,
      "outputs": [
        {
          "output_type": "stream",
          "name": "stdout",
          "text": [
            "\u001b[K     |████████████████████████████████| 3.4 MB 12.1 MB/s \n",
            "\u001b[K     |████████████████████████████████| 206 kB 31.8 MB/s \n",
            "\u001b[K     |████████████████████████████████| 1.9 MB 27.2 MB/s \n",
            "\u001b[K     |████████████████████████████████| 3.0 MB 39.0 MB/s \n",
            "\u001b[K     |████████████████████████████████| 961 kB 33.8 MB/s \n",
            "\u001b[K     |████████████████████████████████| 63 kB 1.9 MB/s \n",
            "\u001b[?25h  Building wheel for ffmpy (setup.py) ... \u001b[?25l\u001b[?25hdone\n",
            "  Building wheel for flask-cachebuster (setup.py) ... \u001b[?25l\u001b[?25hdone\n",
            "  Installing build dependencies ... \u001b[?25l\u001b[?25hdone\n",
            "  Getting requirements to build wheel ... \u001b[?25l\u001b[?25hdone\n",
            "    Preparing wheel metadata ... \u001b[?25l\u001b[?25hdone\n",
            "\u001b[K     |████████████████████████████████| 895 kB 13.6 MB/s \n",
            "\u001b[K     |████████████████████████████████| 3.3 MB 42.1 MB/s \n",
            "\u001b[K     |████████████████████████████████| 636 kB 36.9 MB/s \n",
            "\u001b[K     |████████████████████████████████| 50 kB 6.2 MB/s \n",
            "\u001b[?25h  Building wheel for transformers (PEP 517) ... \u001b[?25l\u001b[?25hdone\n"
          ]
        }
      ]
    },
    {
      "cell_type": "code",
      "metadata": {
        "id": "fpnqjQor-Guv"
      },
      "source": [
        "import gradio as gr\n",
        "import tensorflow as tf\n",
        "from transformers import TFGPT2LMHeadModel, GPT2Tokenizer"
      ],
      "execution_count": 2,
      "outputs": []
    },
    {
      "cell_type": "markdown",
      "metadata": {
        "id": "LdTngat-hNoV"
      },
      "source": [
        "### Loading the model and creating the generate function"
      ]
    },
    {
      "cell_type": "markdown",
      "metadata": {
        "id": "Kqwhb-aLh6QL"
      },
      "source": [
        "Note: You can also change `gpt2` to `gpt2-xl` for a much more powerful model!"
      ]
    },
    {
      "cell_type": "code",
      "metadata": {
        "id": "V0PzPkvC-Guy",
        "colab": {
          "base_uri": "https://localhost:8080/",
          "height": 266,
          "referenced_widgets": [
            "bdc74b6e1f234824a9af2275806811f7",
            "367a144264fa4828a72ab1425bfa2acd",
            "fd8275940afe4d08ba58a1c630a38d23",
            "60c65976ed0e486b928141fb14348353",
            "cbc3840792b4456b8af40768e4df6ffd",
            "79978a7bd01b425a86d314f0edbd2723",
            "7b74901fc4464be49570a81643fcae20",
            "8027c1a8a5244ae983ebbc5d99b12e12",
            "93b0cd20f18a4b3eaf3e03da8a6da41c",
            "5fdf9e74e77b4d5181d4a4296f040153",
            "4fb911a7a2ef4c26aeb0a1cfc95a1581",
            "333ac08c32ce42d3acdca561d5f23f97",
            "b88369d6ff45479683ca1dfef3f56c42",
            "71e89b1e6c1b4d87a4fd7e4dfb5defb1",
            "24a1b4ab4e8f442c8fcc07eab1cd7ad7",
            "fcef725f9e7d495b86717e6797088021",
            "be7c4c8a3c5e4548993f8561879e984c",
            "6fcfb6d74e6b4e58b7dd37f13c416054",
            "dc93d5c339234d65921cfd7a79d4e013",
            "254e90f0ad314286a99aee4316280699",
            "28c118aad4494d85a9591ea8e256dd92",
            "c7c130cc9ae24e728eb080676fc9a368",
            "7c1c72527f724ec68fabb0d3e4175b4c",
            "6c864aee63344c2da8d5274133b02637",
            "1c6b1d7b8d2d47c49acd86161c15766f",
            "3bdf889a085d462c9ca290ca282f26f0",
            "b62b529678c94306a9379360a659fe0b",
            "cc94c00b06814e7facdc9de4dc3362c1",
            "d373df82206442ee975056131bc6dcde",
            "aa12265430f4428cb08900d9728b2660",
            "c7915d540e074468a5b8375e3b2ef049",
            "a9075c2221e44473a89981a711498e80",
            "1c8d45725bfd42ea8487488983dd799a",
            "3b446095a66f4b2c9b0f3a215972645a",
            "5de69c62025a4d3fbc6313a20e777293",
            "58a313d6c8b24b2a8f1089719d09a54e",
            "ea4a8638f5704206b50099403228f0b0",
            "3769e3876c8e4929bb111f90615694ea",
            "55f786d6df5f48cf8098c2f5738b1c68",
            "be1d9771c03f4dbcbef7d18317432940",
            "1a743d2d5d4a4366950adf2dd1ad1336",
            "c52a49c729b34bd4909e14947571f051",
            "ea71fae4491e444396f86a6ee6b25140",
            "c6bf3765ac684717bbec9d5cf3dae7a7",
            "2ac442697a844f89a35921dd38e17015",
            "1ee544d9102444aaae4463704229064e",
            "da619e1ee535455d8d0238e383e431b6",
            "9d97493d43e84d448874750e6f106e93",
            "01e8a3a8199b4d77971c9e08efb4a589",
            "8cbeed790f2a438b90308c40f5fa5c07",
            "e94efbef549648ab84d12d5ca7a7791f",
            "1bd25e863594441c8f9b7374965639be",
            "9c1bcd0319a0494eab89de08708b231f",
            "1f8a9853e84b48b4a9349ab0662c9742",
            "7a395142aca344e1b2bb54c55b3d3af1"
          ]
        },
        "outputId": "2f5511bd-62d6-46e4-8113-653aae161e09"
      },
      "source": [
        "tokenizer = GPT2Tokenizer.from_pretrained(\"gpt2-xl\")\n",
        "model = TFGPT2LMHeadModel.from_pretrained(\"gpt2-xl\", pad_token_id=tokenizer.eos_token_id)"
      ],
      "execution_count": 3,
      "outputs": [
        {
          "output_type": "display_data",
          "data": {
            "application/vnd.jupyter.widget-view+json": {
              "model_id": "bdc74b6e1f234824a9af2275806811f7",
              "version_minor": 0,
              "version_major": 2
            },
            "text/plain": [
              "Downloading:   0%|          | 0.00/0.99M [00:00<?, ?B/s]"
            ]
          },
          "metadata": {}
        },
        {
          "output_type": "display_data",
          "data": {
            "application/vnd.jupyter.widget-view+json": {
              "model_id": "333ac08c32ce42d3acdca561d5f23f97",
              "version_minor": 0,
              "version_major": 2
            },
            "text/plain": [
              "Downloading:   0%|          | 0.00/446k [00:00<?, ?B/s]"
            ]
          },
          "metadata": {}
        },
        {
          "output_type": "display_data",
          "data": {
            "application/vnd.jupyter.widget-view+json": {
              "model_id": "7c1c72527f724ec68fabb0d3e4175b4c",
              "version_minor": 0,
              "version_major": 2
            },
            "text/plain": [
              "Downloading:   0%|          | 0.00/1.29M [00:00<?, ?B/s]"
            ]
          },
          "metadata": {}
        },
        {
          "output_type": "display_data",
          "data": {
            "application/vnd.jupyter.widget-view+json": {
              "model_id": "3b446095a66f4b2c9b0f3a215972645a",
              "version_minor": 0,
              "version_major": 2
            },
            "text/plain": [
              "Downloading:   0%|          | 0.00/689 [00:00<?, ?B/s]"
            ]
          },
          "metadata": {}
        },
        {
          "output_type": "display_data",
          "data": {
            "application/vnd.jupyter.widget-view+json": {
              "model_id": "2ac442697a844f89a35921dd38e17015",
              "version_minor": 0,
              "version_major": 2
            },
            "text/plain": [
              "Downloading:   0%|          | 0.00/5.80G [00:00<?, ?B/s]"
            ]
          },
          "metadata": {}
        },
        {
          "output_type": "stream",
          "name": "stderr",
          "text": [
            "All model checkpoint layers were used when initializing TFGPT2LMHeadModel.\n",
            "\n",
            "All the layers of TFGPT2LMHeadModel were initialized from the model checkpoint at gpt2-xl.\n",
            "If your task is similar to the task the model of the checkpoint was trained on, you can already use TFGPT2LMHeadModel for predictions without further training.\n"
          ]
        }
      ]
    },
    {
      "cell_type": "code",
      "metadata": {
        "colab": {
          "base_uri": "https://localhost:8080/"
        },
        "id": "A1dJ6v4yvb1p",
        "outputId": "750e1ec9-3242-46f2-e19c-d0447aa91874"
      },
      "source": [
        "model.summary()"
      ],
      "execution_count": 6,
      "outputs": [
        {
          "output_type": "stream",
          "name": "stdout",
          "text": [
            "Model: \"tfgp_t2lm_head_model\"\n",
            "_________________________________________________________________\n",
            "Layer (type)                 Output Shape              Param #   \n",
            "=================================================================\n",
            "transformer (TFGPT2MainLayer multiple                  1557611200\n",
            "=================================================================\n",
            "Total params: 1,557,611,200\n",
            "Trainable params: 1,557,611,200\n",
            "Non-trainable params: 0\n",
            "_________________________________________________________________\n"
          ]
        }
      ]
    },
    {
      "cell_type": "code",
      "metadata": {
        "id": "Vue2NHxp-Gu4"
      },
      "source": [
        "def generate_text(inp):\n",
        "    input_ids = tokenizer.encode(inp, return_tensors='tf')\n",
        "    beam_output = model.generate(input_ids, max_length=100, num_beams=5, no_repeat_ngram_size=2, early_stopping=True)\n",
        "    output = tokenizer.decode(beam_output[0], skip_special_tokens=True, clean_up_tokenization_spaces=True)\n",
        "    return \".\".join(output.split(\".\")[:-1]) + \".\""
      ],
      "execution_count": 4,
      "outputs": []
    },
    {
      "cell_type": "markdown",
      "metadata": {
        "id": "C_kfkrszVNQY"
      },
      "source": [
        "###Creating the interface and launching!"
      ]
    },
    {
      "cell_type": "code",
      "metadata": {
        "id": "rdhGABS3-Gu9",
        "colab": {
          "base_uri": "https://localhost:8080/",
          "height": 643
        },
        "outputId": "4fe7cf3e-ee23-4e9d-f478-c5f70289731d"
      },
      "source": [
        "output_text = gr.outputs.Textbox()\n",
        "gr.Interface(generate_text,\"textbox\", output_text, title=\"GPT-2\",\n",
        "             description=\"OpenAI's GPT-2 is an unsupervised language model that \\\n",
        "             can generate coherent text. Go ahead and input a sentence and see what it completes \\\n",
        "             it with! Takes around 20s to run.\").launch()"
      ],
      "execution_count": 7,
      "outputs": [
        {
          "output_type": "stream",
          "name": "stdout",
          "text": [
            "Colab notebook detected. To show errors in colab notebook, set `debug=True` in `launch()`\n",
            "This share link will expire in 24 hours. If you need a permanent link, visit: https://gradio.app/introducing-hosted (NEW!)\n",
            "Running on External URL: https://47008.gradio.app\n",
            "Interface loading below...\n"
          ]
        },
        {
          "output_type": "display_data",
          "data": {
            "text/html": [
              "\n",
              "        <iframe\n",
              "            width=\"900\"\n",
              "            height=\"500\"\n",
              "            src=\"https://47008.gradio.app\"\n",
              "            frameborder=\"0\"\n",
              "            allowfullscreen\n",
              "        ></iframe>\n",
              "        "
            ],
            "text/plain": [
              "<IPython.lib.display.IFrame at 0x7fce3509f490>"
            ]
          },
          "metadata": {}
        },
        {
          "output_type": "execute_result",
          "data": {
            "text/plain": [
              "(<Flask 'gradio.networking'>,\n",
              " 'http://127.0.0.1:7860/',\n",
              " 'https://47008.gradio.app')"
            ]
          },
          "metadata": {},
          "execution_count": 7
        }
      ]
    },
    {
      "cell_type": "markdown",
      "metadata": {
        "id": "VsYULBhZhc0M"
      },
      "source": [
        "#### The model is now live on the gradio.app link shown above. Go ahead and open that in a new tab!"
      ]
    },
    {
      "cell_type": "markdown",
      "metadata": {
        "id": "xn27MzU0hdS2"
      },
      "source": [
        "Please contact us [here](mailto:team@gradio.app) if you have any questions, or [open an issue](https://github.com/gradio-app/gradio-UI/issues/new/choose) at our github repo.\n",
        "\n"
      ]
    },
    {
      "cell_type": "markdown",
      "metadata": {
        "id": "W6_54SwEw6XJ"
      },
      "source": [
        "# **Screenshot**\n",
        "\n"
      ]
    },
    {
      "cell_type": "markdown",
      "metadata": {
        "id": "0XqIDC6DwqTo"
      },
      "source": [
        "![screenshot.png](data:image/png;base64,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)"
      ]
    }
  ]
}